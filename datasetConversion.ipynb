{
 "cells": [
  {
   "cell_type": "markdown",
   "metadata": {},
   "source": [
    "Script for fixing xml files in the dataset I found from https://github.com/Deepknowledge-US/US-Real-time-gun-detection-in-CCTV-An-open-problem-dataset/tree/gh-pages. Changes classes to fit my model training, separates the XML annotations into two different folders of jpgs and annotations, and also chooses around 10% of the dataset randomly since there were too many sample before"
   ]
  },
  {
   "cell_type": "code",
   "execution_count": null,
   "metadata": {},
   "outputs": [],
   "source": [
    "import os\n",
    "import xml.etree.ElementTree as ET\n",
    "import random\n",
    "from shutil import copy2\n",
    "\n",
    "src_dir = '/Users/wesleyliu/Downloads/Images'\n",
    "dest_images_dir = '/Users/wesleyliu/Downloads/CCTV/Images'\n",
    "dest_xml_dir = '/Users/wesleyliu/Downloads/CCTV/annotations'\n",
    "\n",
    "os.makedirs(dest_images_dir, exist_ok=True)\n",
    "os.makedirs(dest_xml_dir, exist_ok=True)\n",
    "\n",
    "# change class names to fit model classification\n",
    "class_changes = {'Handgun': 'pistol', 'Short_rifle': 'rifle', 'Knife': 'knife'}\n",
    "\n",
    "def process_and_copy_files(src_dir, dest_images_dir, dest_xml_dir, class_changes, fraction=0.1):\n",
    "    # get XML files in directory\n",
    "    all_files = [f for f in os.listdir(src_dir) if f.endswith('.xml') or f.endswith('.jpg')]\n",
    "    xml_files = [f for f in all_files if f.endswith('.xml')]\n",
    "    selected_xml_files = random.sample(xml_files, int(len(xml_files) * fraction)) # get a fraction of xml files\n",
    "\n",
    "    for xml_file in selected_xml_files:\n",
    "        # path to XML file\n",
    "        full_path = os.path.join(src_dir, xml_file)\n",
    "        tree = ET.parse(full_path)\n",
    "        root = tree.getroot()\n",
    "\n",
    "        # rename classes in XML\n",
    "        for object_tag in root.findall('object'):\n",
    "            class_name = object_tag.find('name').text\n",
    "            if class_name in class_changes:\n",
    "                object_tag.find('name').text = class_changes[class_name]\n",
    "\n",
    "        # save XML to directory\n",
    "        tree.write(os.path.join(dest_xml_dir, xml_file))\n",
    "\n",
    "        # copy image file over\n",
    "        image_filename = xml_file.replace('.xml', '.jpg')\n",
    "        src_image_path = os.path.join(src_dir, image_filename)\n",
    "        dest_image_path = os.path.join(dest_images_dir, image_filename)\n",
    "        copy2(src_image_path, dest_image_path)\n",
    "\n",
    "# process files\n",
    "process_and_copy_files(src_dir, dest_images_dir, dest_xml_dir, class_changes)"
   ]
  }
 ],
 "metadata": {
  "kernelspec": {
   "display_name": ".venv",
   "language": "python",
   "name": "python3"
  },
  "language_info": {
   "codemirror_mode": {
    "name": "ipython",
    "version": 3
   },
   "file_extension": ".py",
   "mimetype": "text/x-python",
   "name": "python",
   "nbconvert_exporter": "python",
   "pygments_lexer": "ipython3",
   "version": "3.12.2"
  }
 },
 "nbformat": 4,
 "nbformat_minor": 2
}
